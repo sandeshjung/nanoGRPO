{
 "cells": [
  {
   "cell_type": "code",
   "execution_count": 6,
   "id": "4d17a9e9",
   "metadata": {},
   "outputs": [],
   "source": [
    "import sys\n",
    "import os"
   ]
  },
  {
   "cell_type": "code",
   "execution_count": 33,
   "id": "3e34ef72",
   "metadata": {},
   "outputs": [],
   "source": [
    "project_root = os.path.abspath(\".\") \n",
    "if project_root not in sys.path:\n",
    "    sys.path.append(project_root)"
   ]
  },
  {
   "cell_type": "code",
   "execution_count": 41,
   "id": "988cad9a",
   "metadata": {},
   "outputs": [],
   "source": [
    "from data_loader import extract_answer, format_gsm8k_prompt, format_gsm8k_completion"
   ]
  },
  {
   "cell_type": "code",
   "execution_count": 35,
   "id": "93e7b7c9",
   "metadata": {},
   "outputs": [
    {
     "name": "stdout",
     "output_type": "stream",
     "text": [
      "42\n"
     ]
    }
   ],
   "source": [
    "print(extract_answer(\"#### 42\"))"
   ]
  },
  {
   "cell_type": "code",
   "execution_count": 45,
   "id": "e8a30509",
   "metadata": {},
   "outputs": [
    {
     "name": "stdout",
     "output_type": "stream",
     "text": [
      "Question: What is your name\n",
      "\n",
      "Let me solve this step by step.\n",
      "\n",
      "Why should I tell you my name.\n"
     ]
    }
   ],
   "source": [
    "print(format_gsm8k_completion(\"What is your name\", \"Why should I tell you my name.\"))"
   ]
  },
  {
   "cell_type": "code",
   "execution_count": null,
   "id": "963f0eb2",
   "metadata": {},
   "outputs": [],
   "source": []
  }
 ],
 "metadata": {
  "kernelspec": {
   "display_name": "develop_env",
   "language": "python",
   "name": "python3"
  },
  "language_info": {
   "codemirror_mode": {
    "name": "ipython",
    "version": 3
   },
   "file_extension": ".py",
   "mimetype": "text/x-python",
   "name": "python",
   "nbconvert_exporter": "python",
   "pygments_lexer": "ipython3",
   "version": "3.8.18"
  }
 },
 "nbformat": 4,
 "nbformat_minor": 5
}
